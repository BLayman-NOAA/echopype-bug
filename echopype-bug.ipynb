{
 "cells": [
  {
   "cell_type": "code",
   "execution_count": 1,
   "id": "2a0d9d1f",
   "metadata": {},
   "outputs": [],
   "source": [
    "# imports and variables\n",
    "import echopype as ep \n",
    "from pathlib import Path\n",
    "\n",
    "raw_path = Path('./Downloads/Raw/2107RL_CW-D20210813-T220732.raw') \n",
    "output_folder = Path('./NetCDF-files')\n",
    "output_path = output_folder / (raw_path.stem + '.nc')\n",
    "sv_output_folder = Path('Sv-files')\n"
   ]
  },
  {
   "cell_type": "code",
   "execution_count": 2,
   "id": "48490f2e",
   "metadata": {},
   "outputs": [
    {
     "name": "stdout",
     "output_type": "stream",
     "text": [
      "Converted file saved to: NetCDF-files\\2107RL_CW-D20210813-T220732.nc\n"
     ]
    }
   ],
   "source": [
    "\n",
    "# Open the raw file and convert to netCDF\n",
    "ed = ep.open_raw(raw_path, sonar_model=\"EK80\")  # note: EK80\n",
    "ed.to_netcdf(save_path=output_path)\n",
    "print(f\"Converted file saved to: {output_path}\")"
   ]
  },
  {
   "cell_type": "code",
   "execution_count": 3,
   "id": "78d142c0",
   "metadata": {},
   "outputs": [],
   "source": [
    "# open the converted netCDF file\n",
    "echodata = ep.open_converted(output_path)  "
   ]
  },
  {
   "cell_type": "code",
   "execution_count": 4,
   "id": "ad9de413",
   "metadata": {},
   "outputs": [
    {
     "name": "stdout",
     "output_type": "stream",
     "text": [
      "<xarray.DataArray 'backscatter_r' (channel: 5, ping_time: 336,\n",
      "                                   range_sample: 27778, beam: 4)> Size: 1GB\n",
      "[186668160 values with dtype=float64]\n",
      "Coordinates:\n",
      "  * channel       (channel) <U25 500B 'WBT 987753-15 ES120-7C_ES' ... 'WBT 98...\n",
      "  * ping_time     (ping_time) datetime64[ns] 3kB 2021-08-13T22:07:32.264753 ....\n",
      "  * range_sample  (range_sample) int32 111kB 0 1 2 3 ... 27774 27775 27776 27777\n",
      "  * beam          (beam) <U1 16B '1' '2' '3' '4'\n",
      "Attributes:\n",
      "    long_name:  Raw backscatter measurements (real part)\n",
      "    units:      dB\n",
      "\n",
      "\n",
      "\n",
      "<xarray.DataArray 'backscatter_r' (channel: 5, ping_time: 336,\n",
      "                                   range_sample: 27778, beam: 4)> Size: 1GB\n",
      "array([[[[ 2.82805672e+01,  2.90305500e+01,  2.80305557e+01,\n",
      "           2.75305595e+01],\n",
      "         [-1.22340298e+01, -1.26715364e+01, -1.28590307e+01,\n",
      "          -1.12340422e+01],\n",
      "         [-6.39368286e+01, -6.53736038e+01, -6.39368057e+01,\n",
      "          -6.16868286e+01],\n",
      "         ...,\n",
      "         [            nan,             nan,             nan,\n",
      "                      nan],\n",
      "         [            nan,             nan,             nan,\n",
      "                      nan],\n",
      "         [            nan,             nan,             nan,\n",
      "                      nan]],\n",
      "\n",
      "        [[ 3.28112984e+01,  3.35612640e+01,  3.28112717e+01,\n",
      "           3.16556454e+01],\n",
      "         [ 4.46065903e+00,  4.39818048e+00,  3.83970904e+00,\n",
      "           4.83568430e+00],\n",
      "         [-5.91868324e+01, -6.04368134e+01, -5.94368134e+01,\n",
      "          -5.66868401e+01],\n",
      "...\n",
      "         [            nan,             nan,             nan,\n",
      "                      nan],\n",
      "         [            nan,             nan,             nan,\n",
      "                      nan],\n",
      "         [            nan,             nan,             nan,\n",
      "                      nan]],\n",
      "\n",
      "        [[-1.02337933e+01, -1.01088066e+01, -1.06712894e+01,\n",
      "          -1.02337790e+01],\n",
      "         [-4.80444622e+00, -4.58569336e+00, -3.12097239e+00,\n",
      "          -4.77319717e+00],\n",
      "         [ 2.72806644e+01,  2.65306644e+01,  2.45306549e+01,\n",
      "           2.71556549e+01],\n",
      "         ...,\n",
      "         [            nan,             nan,             nan,\n",
      "                      nan],\n",
      "         [            nan,             nan,             nan,\n",
      "                      nan],\n",
      "         [            nan,             nan,             nan,\n",
      "                      nan]]]])\n",
      "Coordinates:\n",
      "  * channel       (channel) <U25 500B 'WBT 987753-15 ES120-7C_ES' ... 'WBT 98...\n",
      "  * ping_time     (ping_time) datetime64[ns] 3kB 2021-08-13T22:07:32.264753 ....\n",
      "  * range_sample  (range_sample) int32 111kB 0 1 2 3 ... 27774 27775 27776 27777\n",
      "  * beam          (beam) <U11 176B '1' '2' '3' '4'\n",
      "Attributes:\n",
      "    long_name:  Raw backscatter measurements (real part)\n",
      "    units:      dB\n"
     ]
    }
   ],
   "source": [
    "# For debugging purposes\n",
    "print(echodata[\"Sonar/Beam_group1\"][\"backscatter_r\"])\n",
    "print()\n",
    "print()\n",
    "print()\n",
    "print(ed[\"Sonar/Beam_group1\"][\"backscatter_r\"])"
   ]
  },
  {
   "cell_type": "code",
   "execution_count": 5,
   "id": "66c6ca01",
   "metadata": {},
   "outputs": [],
   "source": [
    "# Convert echo data from open_raw to sv\n",
    "ds_Sv = ep.calibrate.compute_Sv(ed, waveform_mode=\"CW\", encode_mode=\"complex\") \n",
    "\n",
    "ds_Sv.to_netcdf(sv_output_folder / (raw_path.stem + \".nc\"))  # save data to netCDF format"
   ]
  },
  {
   "cell_type": "code",
   "execution_count": 6,
   "id": "0c3b1765",
   "metadata": {},
   "outputs": [
    {
     "ename": "ValueError",
     "evalue": "dimensions ('channel',) must have the same length as the number of data dimensions, ndim=2",
     "output_type": "error",
     "traceback": [
      "\u001b[31m---------------------------------------------------------------------------\u001b[39m",
      "\u001b[31mValueError\u001b[39m                                Traceback (most recent call last)",
      "\u001b[36mCell\u001b[39m\u001b[36m \u001b[39m\u001b[32mIn[6]\u001b[39m\u001b[32m, line 2\u001b[39m\n\u001b[32m      1\u001b[39m \u001b[38;5;66;03m# Convert echo data from open_converted to sv\u001b[39;00m\n\u001b[32m----> \u001b[39m\u001b[32m2\u001b[39m ds_Sv = \u001b[43mep\u001b[49m\u001b[43m.\u001b[49m\u001b[43mcalibrate\u001b[49m\u001b[43m.\u001b[49m\u001b[43mcompute_Sv\u001b[49m\u001b[43m(\u001b[49m\u001b[43mechodata\u001b[49m\u001b[43m,\u001b[49m\u001b[43m \u001b[49m\u001b[43mwaveform_mode\u001b[49m\u001b[43m=\u001b[49m\u001b[33;43m\"\u001b[39;49m\u001b[33;43mCW\u001b[39;49m\u001b[33;43m\"\u001b[39;49m\u001b[43m,\u001b[49m\u001b[43m \u001b[49m\u001b[43mencode_mode\u001b[49m\u001b[43m=\u001b[49m\u001b[33;43m\"\u001b[39;49m\u001b[33;43mcomplex\u001b[39;49m\u001b[33;43m\"\u001b[39;49m\u001b[43m)\u001b[49m \n\u001b[32m      4\u001b[39m \u001b[38;5;66;03m#ds_Sv.to_netcdf(sv_output_folder / (raw_path.stem + \"_2.nc\"))  # save data to netCDF format\u001b[39;00m\n",
      "\u001b[36mFile \u001b[39m\u001b[32mc:\\Users\\leasu\\AppData\\Local\\pypoetry\\Cache\\virtualenvs\\layman-sketch-pad-NGM3VMfu-py3.11\\Lib\\site-packages\\echopype\\calibrate\\api.py:208\u001b[39m, in \u001b[36mcompute_Sv\u001b[39m\u001b[34m(echodata, **kwargs)\u001b[39m\n\u001b[32m    122\u001b[39m \u001b[38;5;28;01mdef\u001b[39;00m\u001b[38;5;250m \u001b[39m\u001b[34mcompute_Sv\u001b[39m(echodata: EchoData, **kwargs) -> xr.Dataset:\n\u001b[32m    123\u001b[39m \u001b[38;5;250m    \u001b[39m\u001b[33;03m\"\"\"\u001b[39;00m\n\u001b[32m    124\u001b[39m \u001b[33;03m    Compute volume backscattering strength (Sv) from raw data.\u001b[39;00m\n\u001b[32m    125\u001b[39m \n\u001b[32m   (...)\u001b[39m\u001b[32m    206\u001b[39m \u001b[33;03m    it must be set using `EchoData.update_platform()`.\u001b[39;00m\n\u001b[32m    207\u001b[39m \u001b[33;03m    \"\"\"\u001b[39;00m\n\u001b[32m--> \u001b[39m\u001b[32m208\u001b[39m     \u001b[38;5;28;01mreturn\u001b[39;00m \u001b[43m_compute_cal\u001b[49m\u001b[43m(\u001b[49m\u001b[43mcal_type\u001b[49m\u001b[43m=\u001b[49m\u001b[33;43m\"\u001b[39;49m\u001b[33;43mSv\u001b[39;49m\u001b[33;43m\"\u001b[39;49m\u001b[43m,\u001b[49m\u001b[43m \u001b[49m\u001b[43mechodata\u001b[49m\u001b[43m=\u001b[49m\u001b[43mechodata\u001b[49m\u001b[43m,\u001b[49m\u001b[43m \u001b[49m\u001b[43m*\u001b[49m\u001b[43m*\u001b[49m\u001b[43mkwargs\u001b[49m\u001b[43m)\u001b[49m\n",
      "\u001b[36mFile \u001b[39m\u001b[32mc:\\Users\\leasu\\AppData\\Local\\pypoetry\\Cache\\virtualenvs\\layman-sketch-pad-NGM3VMfu-py3.11\\Lib\\site-packages\\echopype\\calibrate\\api.py:66\u001b[39m, in \u001b[36m_compute_cal\u001b[39m\u001b[34m(cal_type, echodata, env_params, cal_params, ecs_file, waveform_mode, encode_mode)\u001b[39m\n\u001b[32m     64\u001b[39m \u001b[38;5;66;03m# Perform calibration\u001b[39;00m\n\u001b[32m     65\u001b[39m \u001b[38;5;28;01mif\u001b[39;00m cal_type == \u001b[33m\"\u001b[39m\u001b[33mSv\u001b[39m\u001b[33m\"\u001b[39m:\n\u001b[32m---> \u001b[39m\u001b[32m66\u001b[39m     cal_ds = \u001b[43mcal_obj\u001b[49m\u001b[43m.\u001b[49m\u001b[43mcompute_Sv\u001b[49m\u001b[43m(\u001b[49m\u001b[43m)\u001b[49m\n\u001b[32m     67\u001b[39m \u001b[38;5;28;01melif\u001b[39;00m cal_type == \u001b[33m\"\u001b[39m\u001b[33mTS\u001b[39m\u001b[33m\"\u001b[39m:\n\u001b[32m     68\u001b[39m     cal_ds = cal_obj.compute_TS()\n",
      "\u001b[36mFile \u001b[39m\u001b[32mc:\\Users\\leasu\\AppData\\Local\\pypoetry\\Cache\\virtualenvs\\layman-sketch-pad-NGM3VMfu-py3.11\\Lib\\site-packages\\echopype\\calibrate\\calibrate_ek.py:630\u001b[39m, in \u001b[36mCalibrateEK80.compute_Sv\u001b[39m\u001b[34m(self)\u001b[39m\n\u001b[32m    621\u001b[39m \u001b[38;5;28;01mdef\u001b[39;00m\u001b[38;5;250m \u001b[39m\u001b[34mcompute_Sv\u001b[39m(\u001b[38;5;28mself\u001b[39m):\n\u001b[32m    622\u001b[39m \u001b[38;5;250m    \u001b[39m\u001b[33;03m\"\"\"Compute volume backscattering strength (Sv).\u001b[39;00m\n\u001b[32m    623\u001b[39m \n\u001b[32m    624\u001b[39m \u001b[33;03m    Returns\u001b[39;00m\n\u001b[32m   (...)\u001b[39m\u001b[32m    628\u001b[39m \u001b[33;03m        and the corresponding range (``echo_range``) in units meter.\u001b[39;00m\n\u001b[32m    629\u001b[39m \u001b[33;03m    \"\"\"\u001b[39;00m\n\u001b[32m--> \u001b[39m\u001b[32m630\u001b[39m     \u001b[38;5;28;01mreturn\u001b[39;00m \u001b[38;5;28;43mself\u001b[39;49m\u001b[43m.\u001b[49m\u001b[43m_compute_cal\u001b[49m\u001b[43m(\u001b[49m\u001b[43mcal_type\u001b[49m\u001b[43m=\u001b[49m\u001b[33;43m\"\u001b[39;49m\u001b[33;43mSv\u001b[39;49m\u001b[33;43m\"\u001b[39;49m\u001b[43m)\u001b[49m\n",
      "\u001b[36mFile \u001b[39m\u001b[32mc:\\Users\\leasu\\AppData\\Local\\pypoetry\\Cache\\virtualenvs\\layman-sketch-pad-NGM3VMfu-py3.11\\Lib\\site-packages\\echopype\\calibrate\\calibrate_ek.py:614\u001b[39m, in \u001b[36mCalibrateEK80._compute_cal\u001b[39m\u001b[34m(self, cal_type)\u001b[39m\n\u001b[32m    608\u001b[39m flag_complex = (\n\u001b[32m    609\u001b[39m     \u001b[38;5;28;01mTrue\u001b[39;00m \u001b[38;5;28;01mif\u001b[39;00m \u001b[38;5;28mself\u001b[39m.waveform_mode == \u001b[33m\"\u001b[39m\u001b[33mBB\u001b[39m\u001b[33m\"\u001b[39m \u001b[38;5;129;01mor\u001b[39;00m \u001b[38;5;28mself\u001b[39m.encode_mode == \u001b[33m\"\u001b[39m\u001b[33mcomplex\u001b[39m\u001b[33m\"\u001b[39m \u001b[38;5;28;01melse\u001b[39;00m \u001b[38;5;28;01mFalse\u001b[39;00m\n\u001b[32m    610\u001b[39m )\n\u001b[32m    612\u001b[39m \u001b[38;5;28;01mif\u001b[39;00m flag_complex:\n\u001b[32m    613\u001b[39m     \u001b[38;5;66;03m# Complex samples can be BB or CW\u001b[39;00m\n\u001b[32m--> \u001b[39m\u001b[32m614\u001b[39m     ds_cal = \u001b[38;5;28;43mself\u001b[39;49m\u001b[43m.\u001b[49m\u001b[43m_cal_complex_samples\u001b[49m\u001b[43m(\u001b[49m\u001b[43mcal_type\u001b[49m\u001b[43m=\u001b[49m\u001b[43mcal_type\u001b[49m\u001b[43m)\u001b[49m\n\u001b[32m    615\u001b[39m \u001b[38;5;28;01melse\u001b[39;00m:\n\u001b[32m    616\u001b[39m     \u001b[38;5;66;03m# Power samples only make sense for CW mode data\u001b[39;00m\n\u001b[32m    617\u001b[39m     ds_cal = \u001b[38;5;28mself\u001b[39m._cal_power_samples(cal_type=cal_type)\n",
      "\u001b[36mFile \u001b[39m\u001b[32mc:\\Users\\leasu\\AppData\\Local\\pypoetry\\Cache\\virtualenvs\\layman-sketch-pad-NGM3VMfu-py3.11\\Lib\\site-packages\\echopype\\calibrate\\calibrate_ek.py:548\u001b[39m, in \u001b[36mCalibrateEK80._cal_complex_samples\u001b[39m\u001b[34m(self, cal_type)\u001b[39m\n\u001b[32m    544\u001b[39m \u001b[38;5;66;03m# Use pulse_duration in place of tau_effective for GPT channels\u001b[39;00m\n\u001b[32m    545\u001b[39m \u001b[38;5;66;03m# TODO: below assumes that all transmit parameters are identical\u001b[39;00m\n\u001b[32m    546\u001b[39m \u001b[38;5;66;03m# and needs to be changed when allowing transmit parameters to vary by ping\u001b[39;00m\n\u001b[32m    547\u001b[39m ch_GPT = (vend[\u001b[33m\"\u001b[39m\u001b[33mtransceiver_type\u001b[39m\u001b[33m\"\u001b[39m] == \u001b[33m\"\u001b[39m\u001b[33mGPT\u001b[39m\u001b[33m\"\u001b[39m).compute()\n\u001b[32m--> \u001b[39m\u001b[32m548\u001b[39m \u001b[43mtau_effective\u001b[49m\u001b[43m[\u001b[49m\u001b[43mch_GPT\u001b[49m\u001b[43m]\u001b[49m = beam[\u001b[33m\"\u001b[39m\u001b[33mtransmit_duration_nominal\u001b[39m\u001b[33m\"\u001b[39m][ch_GPT].isel(ping_time=\u001b[32m0\u001b[39m)\n\u001b[32m    550\u001b[39m \u001b[38;5;66;03m# equivalent_beam_angle\u001b[39;00m\n\u001b[32m    551\u001b[39m \u001b[38;5;66;03m# TODO: THIS ONE CARRIES THE BEAM DIMENSION AROUND\u001b[39;00m\n\u001b[32m    552\u001b[39m psifc = \u001b[38;5;28mself\u001b[39m.cal_params[\u001b[33m\"\u001b[39m\u001b[33mequivalent_beam_angle\u001b[39m\u001b[33m\"\u001b[39m]\n",
      "\u001b[36mFile \u001b[39m\u001b[32mc:\\Users\\leasu\\AppData\\Local\\pypoetry\\Cache\\virtualenvs\\layman-sketch-pad-NGM3VMfu-py3.11\\Lib\\site-packages\\xarray\\core\\dataarray.py:905\u001b[39m, in \u001b[36mDataArray.__setitem__\u001b[39m\u001b[34m(self, key, value)\u001b[39m\n\u001b[32m    900\u001b[39m \u001b[38;5;66;03m# DataArray key -> Variable key\u001b[39;00m\n\u001b[32m    901\u001b[39m key = {\n\u001b[32m    902\u001b[39m     k: v.variable \u001b[38;5;28;01mif\u001b[39;00m \u001b[38;5;28misinstance\u001b[39m(v, DataArray) \u001b[38;5;28;01melse\u001b[39;00m v\n\u001b[32m    903\u001b[39m     \u001b[38;5;28;01mfor\u001b[39;00m k, v \u001b[38;5;129;01min\u001b[39;00m \u001b[38;5;28mself\u001b[39m._item_key_to_dict(key).items()\n\u001b[32m    904\u001b[39m }\n\u001b[32m--> \u001b[39m\u001b[32m905\u001b[39m \u001b[38;5;28;43mself\u001b[39;49m\u001b[43m.\u001b[49m\u001b[43mvariable\u001b[49m\u001b[43m[\u001b[49m\u001b[43mkey\u001b[49m\u001b[43m]\u001b[49m = value\n",
      "\u001b[36mFile \u001b[39m\u001b[32mc:\\Users\\leasu\\AppData\\Local\\pypoetry\\Cache\\virtualenvs\\layman-sketch-pad-NGM3VMfu-py3.11\\Lib\\site-packages\\xarray\\core\\variable.py:866\u001b[39m, in \u001b[36mVariable.__setitem__\u001b[39m\u001b[34m(self, key, value)\u001b[39m\n\u001b[32m    864\u001b[39m         value = Variable(dims[-value.ndim :], value)\n\u001b[32m    865\u001b[39m \u001b[38;5;66;03m# broadcast to become assignable\u001b[39;00m\n\u001b[32m--> \u001b[39m\u001b[32m866\u001b[39m value = \u001b[43mvalue\u001b[49m\u001b[43m.\u001b[49m\u001b[43mset_dims\u001b[49m\u001b[43m(\u001b[49m\u001b[43mdims\u001b[49m\u001b[43m)\u001b[49m.data\n\u001b[32m    868\u001b[39m \u001b[38;5;28;01mif\u001b[39;00m new_order:\n\u001b[32m    869\u001b[39m     value = duck_array_ops.asarray(value)\n",
      "\u001b[36mFile \u001b[39m\u001b[32mc:\\Users\\leasu\\AppData\\Local\\pypoetry\\Cache\\virtualenvs\\layman-sketch-pad-NGM3VMfu-py3.11\\Lib\\site-packages\\xarray\\util\\deprecation_helpers.py:143\u001b[39m, in \u001b[36mdeprecate_dims.<locals>.wrapper\u001b[39m\u001b[34m(*args, **kwargs)\u001b[39m\n\u001b[32m    135\u001b[39m     emit_user_level_warning(\n\u001b[32m    136\u001b[39m         \u001b[33mf\u001b[39m\u001b[33m\"\u001b[39m\u001b[33mThe `\u001b[39m\u001b[38;5;132;01m{\u001b[39;00mold_name\u001b[38;5;132;01m}\u001b[39;00m\u001b[33m` argument has been renamed to `dim`, and will be removed \u001b[39m\u001b[33m\"\u001b[39m\n\u001b[32m    137\u001b[39m         \u001b[33m\"\u001b[39m\u001b[33min the future. This renaming is taking place throughout xarray over the \u001b[39m\u001b[33m\"\u001b[39m\n\u001b[32m   (...)\u001b[39m\u001b[32m    140\u001b[39m         \u001b[38;5;167;01mPendingDeprecationWarning\u001b[39;00m,\n\u001b[32m    141\u001b[39m     )\n\u001b[32m    142\u001b[39m     kwargs[\u001b[33m\"\u001b[39m\u001b[33mdim\u001b[39m\u001b[33m\"\u001b[39m] = kwargs.pop(old_name)\n\u001b[32m--> \u001b[39m\u001b[32m143\u001b[39m \u001b[38;5;28;01mreturn\u001b[39;00m \u001b[43mfunc\u001b[49m\u001b[43m(\u001b[49m\u001b[43m*\u001b[49m\u001b[43margs\u001b[49m\u001b[43m,\u001b[49m\u001b[43m \u001b[49m\u001b[43m*\u001b[49m\u001b[43m*\u001b[49m\u001b[43mkwargs\u001b[49m\u001b[43m)\u001b[49m\n",
      "\u001b[36mFile \u001b[39m\u001b[32mc:\\Users\\leasu\\AppData\\Local\\pypoetry\\Cache\\virtualenvs\\layman-sketch-pad-NGM3VMfu-py3.11\\Lib\\site-packages\\xarray\\core\\variable.py:1401\u001b[39m, in \u001b[36mVariable.set_dims\u001b[39m\u001b[34m(self, dim, shape)\u001b[39m\n\u001b[32m   1398\u001b[39m     tmp_shape = \u001b[38;5;28mtuple\u001b[39m(dims_map[d] \u001b[38;5;28;01mfor\u001b[39;00m d \u001b[38;5;129;01min\u001b[39;00m expanded_dims)\n\u001b[32m   1399\u001b[39m     expanded_data = duck_array_ops.broadcast_to(\u001b[38;5;28mself\u001b[39m._data, tmp_shape)\n\u001b[32m-> \u001b[39m\u001b[32m1401\u001b[39m expanded_var = \u001b[43mVariable\u001b[49m\u001b[43m(\u001b[49m\n\u001b[32m   1402\u001b[39m \u001b[43m    \u001b[49m\u001b[43mexpanded_dims\u001b[49m\u001b[43m,\u001b[49m\u001b[43m \u001b[49m\u001b[43mexpanded_data\u001b[49m\u001b[43m,\u001b[49m\u001b[43m \u001b[49m\u001b[38;5;28;43mself\u001b[39;49m\u001b[43m.\u001b[49m\u001b[43m_attrs\u001b[49m\u001b[43m,\u001b[49m\u001b[43m \u001b[49m\u001b[38;5;28;43mself\u001b[39;49m\u001b[43m.\u001b[49m\u001b[43m_encoding\u001b[49m\u001b[43m,\u001b[49m\u001b[43m \u001b[49m\u001b[43mfastpath\u001b[49m\u001b[43m=\u001b[49m\u001b[38;5;28;43;01mTrue\u001b[39;49;00m\n\u001b[32m   1403\u001b[39m \u001b[43m\u001b[49m\u001b[43m)\u001b[49m\n\u001b[32m   1404\u001b[39m \u001b[38;5;28;01mreturn\u001b[39;00m expanded_var.transpose(*dim)\n",
      "\u001b[36mFile \u001b[39m\u001b[32mc:\\Users\\leasu\\AppData\\Local\\pypoetry\\Cache\\virtualenvs\\layman-sketch-pad-NGM3VMfu-py3.11\\Lib\\site-packages\\xarray\\core\\variable.py:378\u001b[39m, in \u001b[36mVariable.__init__\u001b[39m\u001b[34m(self, dims, data, attrs, encoding, fastpath)\u001b[39m\n\u001b[32m    350\u001b[39m \u001b[38;5;28;01mdef\u001b[39;00m\u001b[38;5;250m \u001b[39m\u001b[34m__init__\u001b[39m(\n\u001b[32m    351\u001b[39m     \u001b[38;5;28mself\u001b[39m,\n\u001b[32m    352\u001b[39m     dims,\n\u001b[32m   (...)\u001b[39m\u001b[32m    356\u001b[39m     fastpath=\u001b[38;5;28;01mFalse\u001b[39;00m,\n\u001b[32m    357\u001b[39m ):\n\u001b[32m    358\u001b[39m \u001b[38;5;250m    \u001b[39m\u001b[33;03m\"\"\"\u001b[39;00m\n\u001b[32m    359\u001b[39m \u001b[33;03m    Parameters\u001b[39;00m\n\u001b[32m    360\u001b[39m \u001b[33;03m    ----------\u001b[39;00m\n\u001b[32m   (...)\u001b[39m\u001b[32m    376\u001b[39m \u001b[33;03m        unrecognized encoding items.\u001b[39;00m\n\u001b[32m    377\u001b[39m \u001b[33;03m    \"\"\"\u001b[39;00m\n\u001b[32m--> \u001b[39m\u001b[32m378\u001b[39m     \u001b[38;5;28;43msuper\u001b[39;49m\u001b[43m(\u001b[49m\u001b[43m)\u001b[49m\u001b[43m.\u001b[49m\u001b[34;43m__init__\u001b[39;49m\u001b[43m(\u001b[49m\n\u001b[32m    379\u001b[39m \u001b[43m        \u001b[49m\u001b[43mdims\u001b[49m\u001b[43m=\u001b[49m\u001b[43mdims\u001b[49m\u001b[43m,\u001b[49m\u001b[43m \u001b[49m\u001b[43mdata\u001b[49m\u001b[43m=\u001b[49m\u001b[43mas_compatible_data\u001b[49m\u001b[43m(\u001b[49m\u001b[43mdata\u001b[49m\u001b[43m,\u001b[49m\u001b[43m \u001b[49m\u001b[43mfastpath\u001b[49m\u001b[43m=\u001b[49m\u001b[43mfastpath\u001b[49m\u001b[43m)\u001b[49m\u001b[43m,\u001b[49m\u001b[43m \u001b[49m\u001b[43mattrs\u001b[49m\u001b[43m=\u001b[49m\u001b[43mattrs\u001b[49m\n\u001b[32m    380\u001b[39m \u001b[43m    \u001b[49m\u001b[43m)\u001b[49m\n\u001b[32m    382\u001b[39m     \u001b[38;5;28mself\u001b[39m._encoding = \u001b[38;5;28;01mNone\u001b[39;00m\n\u001b[32m    383\u001b[39m     \u001b[38;5;28;01mif\u001b[39;00m encoding \u001b[38;5;129;01mis\u001b[39;00m \u001b[38;5;129;01mnot\u001b[39;00m \u001b[38;5;28;01mNone\u001b[39;00m:\n",
      "\u001b[36mFile \u001b[39m\u001b[32mc:\\Users\\leasu\\AppData\\Local\\pypoetry\\Cache\\virtualenvs\\layman-sketch-pad-NGM3VMfu-py3.11\\Lib\\site-packages\\xarray\\namedarray\\core.py:261\u001b[39m, in \u001b[36mNamedArray.__init__\u001b[39m\u001b[34m(self, dims, data, attrs)\u001b[39m\n\u001b[32m    254\u001b[39m \u001b[38;5;28;01mdef\u001b[39;00m\u001b[38;5;250m \u001b[39m\u001b[34m__init__\u001b[39m(\n\u001b[32m    255\u001b[39m     \u001b[38;5;28mself\u001b[39m,\n\u001b[32m    256\u001b[39m     dims: _DimsLike,\n\u001b[32m    257\u001b[39m     data: duckarray[Any, _DType_co],\n\u001b[32m    258\u001b[39m     attrs: _AttrsLike = \u001b[38;5;28;01mNone\u001b[39;00m,\n\u001b[32m    259\u001b[39m ):\n\u001b[32m    260\u001b[39m     \u001b[38;5;28mself\u001b[39m._data = data\n\u001b[32m--> \u001b[39m\u001b[32m261\u001b[39m     \u001b[38;5;28mself\u001b[39m._dims = \u001b[38;5;28;43mself\u001b[39;49m\u001b[43m.\u001b[49m\u001b[43m_parse_dimensions\u001b[49m\u001b[43m(\u001b[49m\u001b[43mdims\u001b[49m\u001b[43m)\u001b[49m\n\u001b[32m    262\u001b[39m     \u001b[38;5;28mself\u001b[39m._attrs = \u001b[38;5;28mdict\u001b[39m(attrs) \u001b[38;5;28;01mif\u001b[39;00m attrs \u001b[38;5;28;01melse\u001b[39;00m \u001b[38;5;28;01mNone\u001b[39;00m\n",
      "\u001b[36mFile \u001b[39m\u001b[32mc:\\Users\\leasu\\AppData\\Local\\pypoetry\\Cache\\virtualenvs\\layman-sketch-pad-NGM3VMfu-py3.11\\Lib\\site-packages\\xarray\\namedarray\\core.py:505\u001b[39m, in \u001b[36mNamedArray._parse_dimensions\u001b[39m\u001b[34m(self, dims)\u001b[39m\n\u001b[32m    503\u001b[39m dims = (dims,) \u001b[38;5;28;01mif\u001b[39;00m \u001b[38;5;28misinstance\u001b[39m(dims, \u001b[38;5;28mstr\u001b[39m) \u001b[38;5;28;01melse\u001b[39;00m \u001b[38;5;28mtuple\u001b[39m(dims)\n\u001b[32m    504\u001b[39m \u001b[38;5;28;01mif\u001b[39;00m \u001b[38;5;28mlen\u001b[39m(dims) != \u001b[38;5;28mself\u001b[39m.ndim:\n\u001b[32m--> \u001b[39m\u001b[32m505\u001b[39m     \u001b[38;5;28;01mraise\u001b[39;00m \u001b[38;5;167;01mValueError\u001b[39;00m(\n\u001b[32m    506\u001b[39m         \u001b[33mf\u001b[39m\u001b[33m\"\u001b[39m\u001b[33mdimensions \u001b[39m\u001b[38;5;132;01m{\u001b[39;00mdims\u001b[38;5;132;01m}\u001b[39;00m\u001b[33m must have the same length as the \u001b[39m\u001b[33m\"\u001b[39m\n\u001b[32m    507\u001b[39m         \u001b[33mf\u001b[39m\u001b[33m\"\u001b[39m\u001b[33mnumber of data dimensions, ndim=\u001b[39m\u001b[38;5;132;01m{\u001b[39;00m\u001b[38;5;28mself\u001b[39m.ndim\u001b[38;5;132;01m}\u001b[39;00m\u001b[33m\"\u001b[39m\n\u001b[32m    508\u001b[39m     )\n\u001b[32m    509\u001b[39m \u001b[38;5;28;01mif\u001b[39;00m \u001b[38;5;28mlen\u001b[39m(\u001b[38;5;28mset\u001b[39m(dims)) < \u001b[38;5;28mlen\u001b[39m(dims):\n\u001b[32m    510\u001b[39m     repeated_dims = {d \u001b[38;5;28;01mfor\u001b[39;00m d \u001b[38;5;129;01min\u001b[39;00m dims \u001b[38;5;28;01mif\u001b[39;00m dims.count(d) > \u001b[32m1\u001b[39m}\n",
      "\u001b[31mValueError\u001b[39m: dimensions ('channel',) must have the same length as the number of data dimensions, ndim=2"
     ]
    }
   ],
   "source": [
    "# Convert echo data from open_converted to sv\n",
    "ds_Sv = ep.calibrate.compute_Sv(echodata, waveform_mode=\"CW\", encode_mode=\"complex\") \n",
    "\n",
    "#ds_Sv.to_netcdf(sv_output_folder / (raw_path.stem + \"_2.nc\"))  # save data to netCDF format"
   ]
  }
 ],
 "metadata": {
  "kernelspec": {
   "display_name": "Sketch Pad Kernel",
   "language": "python",
   "name": "sketch-pad-kernel"
  },
  "language_info": {
   "codemirror_mode": {
    "name": "ipython",
    "version": 3
   },
   "file_extension": ".py",
   "mimetype": "text/x-python",
   "name": "python",
   "nbconvert_exporter": "python",
   "pygments_lexer": "ipython3",
   "version": "3.11.3"
  }
 },
 "nbformat": 4,
 "nbformat_minor": 5
}
